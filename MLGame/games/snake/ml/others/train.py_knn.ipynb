{
 "cells": [
  {
   "cell_type": "code",
   "execution_count": 70,
   "metadata": {},
   "outputs": [
    {
     "data": {
      "text/plain": [
       "dict"
      ]
     },
     "execution_count": 70,
     "metadata": {},
     "output_type": "execute_result"
    }
   ],
   "source": [
    "import pickle\n",
    "import numpy as np\n",
    "from sklearn.neighbors import KNeighborsClassifier\n",
    "from sklearn.model_selection import train_test_split, cross_val_score\n",
    "from sklearn.metrics import  classification_report, confusion_matrix\n",
    "from sklearn.model_selection import GridSearchCV\n",
    "from sklearn.model_selection import StratifiedShuffleSplit\n",
    "\n",
    "from sklearn import metrics\n",
    "from sklearn.ensemble import RandomForestClassifier\n",
    "\n",
    "#試取資料\n",
    "file = open(\"/Users/peggy/Documents/109-2(2-2)/machine_learning/MLGame/games/snake/log/snake1.pickle\", \"rb\")\n",
    "data = pickle.load(file)\n",
    "file.close()\n",
    "type(data['ml'])"
   ]
  },
  {
   "cell_type": "code",
   "execution_count": 71,
   "metadata": {},
   "outputs": [],
   "source": [
    "game_info = data[\"ml\"][\"scene_info\"]\n",
    "game_command = data[\"ml\"][\"command\"]\n",
    "#print(game_info)\n",
    "#print(game_command)"
   ]
  },
  {
   "cell_type": "code",
   "execution_count": 72,
   "metadata": {},
   "outputs": [
    {
     "name": "stdout",
     "output_type": "stream",
     "text": [
      "158034\n",
      "158034\n"
     ]
    }
   ],
   "source": [
    "\n",
    "for i in range(2,3): \n",
    "    path = \"/Users/peggy/Documents/109-2(2-2)/machine_learning/MLGame/games/snake/log/snake\" + str(i) + \".pickle\"\n",
    "    file = open(path, \"rb\")\n",
    "    data = pickle.load(file)\n",
    "    game_info = game_info + data['ml']['scene_info']\n",
    "    game_command = game_command + data['ml']['command']\n",
    "    file.close()  \n",
    "\n",
    "print(len(game_info))\n",
    "print(len(game_command))\n"
   ]
  },
  {
   "cell_type": "code",
   "execution_count": 73,
   "metadata": {},
   "outputs": [
    {
     "name": "stdout",
     "output_type": "stream",
     "text": [
      "[40 50]\n",
      "LEFT\n"
     ]
    }
   ],
   "source": [
    "g = game_info[1]\n",
    "\n",
    "feature = np.array([g[\"snake_head\"][0], g[\"snake_head\"][1]])\n",
    "print(feature)\n",
    "print(game_command[1])\n",
    "if game_command[1] == \"UP\": game_command[1] = 0\n",
    "elif game_command[1] == \"DOWN\": game_command[1] = 1\n",
    "elif game_command[1] == \"LEFT\": game_command[1] = 2\n",
    "elif game_command[1] == \"RIGHT\": game_command[1] = 3\n",
    "else: game_command[1] = 4 "
   ]
  },
  {
   "cell_type": "code",
   "execution_count": 74,
   "metadata": {
    "scrolled": true
   },
   "outputs": [
    {
     "name": "stdout",
     "output_type": "stream",
     "text": [
      "[[ 40  50]\n",
      " [ 30  50]\n",
      " [ 20  50]\n",
      " ...\n",
      " [270   0]\n",
      " [280   0]\n",
      " [290   0]]\n",
      "(158032, 2)\n",
      "[2 2 2 ... 3 3 3]\n",
      "(158032,)\n"
     ]
    }
   ],
   "source": [
    "for i in range(2, len(game_info) - 1):\n",
    "    g = game_info[i]\n",
    "    g_last = game_info[i-1]\n",
    "    snakehead_x=g[\"snake_head\"][0]\n",
    "    snakehead_y=g[\"snake_head\"][1]\n",
    "    x_dir=g['snake_head'][0] - g_last['snake_head'][0]\n",
    "    y_dir=g['snake_head'][1] - g_last['snake_head'][1]\n",
    "    food_x=g[\"food\"][0]\n",
    "    food_y=g[\"food\"][1]\n",
    "    if x_dir>0 and y_dir == 0:\n",
    "        direction = 4 \n",
    "        wall_disx = 300 - g['snake_head'][0]\n",
    "    elif x_dir<0 and y_dir == 0:\n",
    "        direction = 3\n",
    "        wall_disx = g['snake_head'][0]\n",
    "    elif y_dir>0 and x_dir == 0:\n",
    "        direction = 2\n",
    "        wall_disy = 300 - g['snake_head'][1]\n",
    "    elif y_dir<0 and x_dir == 0:\n",
    "        direction = 1\n",
    "        wall_disy = g['snake_head'][1]\n",
    "        \n",
    "    if y_dir == 0:\n",
    "        wall_disy = max(300 - g['snake_head'][1],g['snake_head'][1])\n",
    "    elif x_dir == 0:\n",
    "        wall_disx = max(300 - g['snake_head'][0],g['snake_head'][0])\n",
    "    body = 0\n",
    "    wall = 0\n",
    "    #wall            \n",
    "    #四個角角\n",
    "    snake_head = g[\"snake_head\"]\n",
    "    if ((snake_head[0] > 285 and snake_head[1] > 285)or(snake_head[0] > 285 and snake_head[1] < 5) or (snake_head[0] < 5 and snake_head[1] > 285)or(snake_head[0] < 5 and snake_head[1] > 285)):\n",
    "        #x方向移動\n",
    "        if direction >= 3:\n",
    "            if snake_head[0] > 285:\n",
    "                if snake_head[1] > 285: #右下\n",
    "                    wall = 1\n",
    "                if snake_head[1] < 5:#右上\n",
    "                    wall = 2\n",
    "            if snake_head[0] < 5:\n",
    "                if snake_head[1] > 285:#左下\n",
    "                    wall = 1\n",
    "                if snake_head[1] < 5:#左上\n",
    "                    wall = 2\n",
    "        #y方向移動\n",
    "        if direction <= 2:\n",
    "            if snake_head[1] > 285:\n",
    "                if snake_head[0] > 285: #右下\n",
    "                    wall = 3\n",
    "                if snake_head[0] < 5:#左下\n",
    "                    wall = 4\n",
    "            if snake_head[1] < 5:\n",
    "                if snake_head[0] > 285:#右上\n",
    "                    wall = 3\n",
    "                if snake_head[0] < 5:#左下\n",
    "                    wall = 4          \n",
    "    else:\n",
    "                #x方向移動\n",
    "        if direction >= 3:\n",
    "            if snake_head[0] >= 285:\n",
    "                if snake_head[1] > 145: #右下\n",
    "                    wall = 1\n",
    "                else:#右上\n",
    "                    wall = 2\n",
    "            if snake_head[0] < 5:\n",
    "                if snake_head[1] > 145:#左下\n",
    "                    wall = 1\n",
    "                else:#左上\n",
    "                    wall = 2\n",
    "                #y方向移動\n",
    "        if direction <= 2:\n",
    "            if snake_head[1] >= 285:\n",
    "                if snake_head[0] > 145: #右下\n",
    "                    wall = 3\n",
    "                else:#左下\n",
    "                    wall = 4\n",
    "            if snake_head[1] < 5:\n",
    "                if snake_head[0] > 145:#右上\n",
    "                    wall = 3\n",
    "                else:#左上\n",
    "                    wall = 4\n",
    "\n",
    "\n",
    "    #是否離body直線距離<=10?body left==3,right==4,up==1,down==2\n",
    "    for m in range(0,len(g['snake_body'])):\n",
    "        if direction==3:#left\n",
    "            if(g['snake_head'][0]==g['snake_body'][m][0]):\n",
    "                if(m!=len(g['snake_body'])-1):\n",
    "                    if(g['snake_head'][1]==g['snake_body'][m][1]+10):\n",
    "                        body = 2\n",
    "                    elif(g['snake_head'][1]==g['snake_body'][m][1]-10):\n",
    "                        body = 1\n",
    "            if (g['snake_head'][0]==g['snake_body'][m][0]+10 and g['snake_head'][1]==g['snake_body'][m][1]): \n",
    "                if(m!=len(g['snake_body'])-1):\n",
    "                    if(g['snake_head'][1]+10==g['snake_body'][m+1][1]):\n",
    "                        body = 2\n",
    "                    elif(g['snake_head'][1]-10==g['snake_body'][m+1][1]):\n",
    "                        body = 1\n",
    "                        \n",
    "                    \n",
    "        elif direction==4:#right \n",
    "            if(g['snake_head'][0]==g['snake_body'][m][0]):\n",
    "                if(m!=len(g['snake_body'])-1):\n",
    "                    if(g['snake_head'][1]==g['snake_body'][m][1]+10):\n",
    "                        body = 2\n",
    "                    elif(g['snake_head'][1]==g['snake_body'][m][1]-10):\n",
    "                        body = 1\n",
    "            if (g['snake_head'][0]==g['snake_body'][m][0]-10 and g['snake_head'][1]==g['snake_body'][m][1]): # \n",
    "                if(m!=len(g['snake_body'])-1):\n",
    "                    if(g['snake_head'][1]+10==g['snake_body'][m+1][1]):\n",
    "                        body = 2\n",
    "                    elif(g['snake_head'][1]-10==g['snake_body'][m+1][1]):\n",
    "                        body = 1\n",
    "                      \n",
    "                            \n",
    "        elif direction==1:#up\n",
    "            if(g['snake_head'][1]==g['snake_body'][m][1]):\n",
    "                if(m!=len(g['snake_body'])-1):\n",
    "                    if(g['snake_head'][0]==g['snake_body'][m][0]+10):\n",
    "                        body = 4\n",
    "                    elif(g['snake_head'][0]==g['snake_body'][m][0]-10):\n",
    "                        body = 3\n",
    "            if (g['snake_head'][1]==g['snake_body'][m][1]+10 and g['snake_head'][0]==g['snake_body'][m][0]): #\n",
    "                if(m!=len(g['snake_body'])-1):\n",
    "                    if(g['snake_head'][0]+10==g['snake_body'][m+1][0]):\n",
    "                        body = 4\n",
    "                    elif(g['snake_head'][0]-10==g['snake_body'][m+1][0]):\n",
    "                        body = 3\n",
    "                        \n",
    "        elif direction==2:#down\n",
    "            if(g['snake_head'][1]==g['snake_body'][m][1]):\n",
    "                if(m!=len(g['snake_body'])-1):\n",
    "                    if(g['snake_head'][0]==g['snake_body'][m][0]+10):\n",
    "                        body = 4\n",
    "                    elif(g['snake_head'][0]==g['snake_body'][m][0]-10):\n",
    "                        body = 3\n",
    "            if (g['snake_head'][1]==g['snake_body'][m][1]-10 and g['snake_head'][0]==g['snake_body'][m][0]): # \n",
    "                if(m!=len(g['snake_body'])-1):\n",
    "                    if(g['snake_head'][0]+10==g['snake_body'][m+1][0]):\n",
    "                        body = 4\n",
    "                    elif(g['snake_head'][0]-10==g['snake_body'][m+1][0]):\n",
    "                        body = 3\n",
    "                        \n",
    "\n",
    "    \n",
    "    feature = np.vstack((feature, [g[\"snake_head\"][0], g[\"snake_head\"][1]]))\n",
    "    if game_command[i] == \"UP\": game_command[i] = 0\n",
    "    elif game_command[i] == \"DOWN\": game_command[i] = 1\n",
    "    elif game_command[i] == \"LEFT\": game_command[i] = 2\n",
    "    elif game_command[i] == \"RIGHT\": game_command[i] = 3\n",
    "    else: game_command[i] = 4 \n",
    "        \n",
    "answer = np.array(game_command[1:-1])\n",
    "print(feature)\n",
    "print(feature.shape)\n",
    "print(answer)\n",
    "print(answer.shape)"
   ]
  },
  {
   "cell_type": "markdown",
   "metadata": {},
   "source": [
    "# KNN\n"
   ]
  },
  {
   "cell_type": "code",
   "execution_count": 77,
   "metadata": {},
   "outputs": [
    {
     "name": "stdout",
     "output_type": "stream",
     "text": [
      "Fitting 2 folds for each of 5 candidates, totalling 10 fits\n"
     ]
    },
    {
     "name": "stderr",
     "output_type": "stream",
     "text": [
      "[Parallel(n_jobs=-1)]: Using backend LokyBackend with 8 concurrent workers.\n",
      "[Parallel(n_jobs=-1)]: Done   3 out of  10 | elapsed:    3.4s remaining:    8.0s\n",
      "[Parallel(n_jobs=-1)]: Done   5 out of  10 | elapsed:    3.4s remaining:    3.4s\n",
      "[Parallel(n_jobs=-1)]: Done   7 out of  10 | elapsed:    3.4s remaining:    1.5s\n",
      "[Parallel(n_jobs=-1)]: Done  10 out of  10 | elapsed:    4.2s finished\n"
     ]
    }
   ],
   "source": [
    "import pickle\n",
    "import numpy as np\n",
    "from sklearn.neighbors import KNeighborsClassifier\n",
    "from sklearn.model_selection import train_test_split, cross_val_score\n",
    "from sklearn.metrics import  classification_report, confusion_matrix\n",
    "from sklearn.model_selection import GridSearchCV\n",
    "from sklearn.model_selection import StratifiedShuffleSplit\n",
    "\n",
    "#資料劃分\n",
    "x_train, x_test, y_train, y_test = train_test_split(feature, answer, test_size=0.3, random_state=9)\n",
    "#參數區間\n",
    "param_grid = {'n_neighbors':[1, 2, 3, 4, 5]}\n",
    "#交叉驗證 \n",
    "cv = StratifiedShuffleSplit(n_splits=2, test_size=0.3, random_state=12)\n",
    "grid = GridSearchCV(KNeighborsClassifier(n_neighbors = 5), param_grid, cv=cv, verbose=10, n_jobs=-1) #n_jobs為平行運算的數量\n",
    "grid.fit(x_train, y_train)\n",
    "grid_predictions = grid.predict(x_test)\n",
    "\n",
    "#儲存\n",
    "file = open('model_KNN.pickle', 'wb')\n",
    "pickle.dump(grid, file)\n",
    "file.close()\n"
   ]
  },
  {
   "cell_type": "code",
   "execution_count": 278,
   "metadata": {},
   "outputs": [
    {
     "name": "stdout",
     "output_type": "stream",
     "text": [
      "{'n_neighbors': 5}\n",
      "[[6164   75  373  345    0]\n",
      " [  71 6402  356  352    0]\n",
      " [ 351  360 8975  105    0]\n",
      " [ 368  397  123 8683    0]\n",
      " [   5    5    7   25    1]]\n",
      "              precision    recall  f1-score   support\n",
      "\n",
      "           0       0.89      0.89      0.89      6957\n",
      "           1       0.88      0.89      0.89      7181\n",
      "           2       0.91      0.92      0.91      9791\n",
      "           3       0.91      0.91      0.91      9571\n",
      "           4       1.00      0.02      0.05        43\n",
      "\n",
      "    accuracy                           0.90     33543\n",
      "   macro avg       0.92      0.72      0.73     33543\n",
      "weighted avg       0.90      0.90      0.90     33543\n",
      "\n"
     ]
    }
   ],
   "source": [
    "#最佳參數\n",
    "print(grid.best_params_)\n",
    "#預測結果\n",
    "#print(grid_predictions)\n",
    "#混淆矩陣\n",
    "print(confusion_matrix(y_test, grid_predictions))\n",
    "#分類結果\n",
    "print(classification_report(y_test, grid_predictions))"
   ]
  },
  {
   "cell_type": "markdown",
   "metadata": {},
   "source": [
    "# MLPClassifier"
   ]
  },
  {
   "cell_type": "code",
   "execution_count": 75,
   "metadata": {},
   "outputs": [],
   "source": [
    "from sklearn.neural_network import MLPClassifier\n",
    "from sklearn.datasets import make_classification\n",
    "from sklearn.model_selection import train_test_split\n",
    "\n",
    "x_train, x_test, y_train, y_test = train_test_split(feature, answer, test_size=0.3, random_state = 7)\n",
    "MLPC = MLPClassifier(random_state=1, max_iter=300).fit(x_train, y_train)\n",
    "\n",
    "MLPC.predict_proba(x_test)\n",
    "MLPC.predict(x_test)\n",
    "MLPC.score(x_test, y_test)\n",
    "\n",
    "file = open(\"model_MLPC.pickle\", \"wb\")\n",
    "pickle.dump(MLPC, file)\n",
    "file.close()"
   ]
  },
  {
   "cell_type": "code",
   "execution_count": 76,
   "metadata": {},
   "outputs": [
    {
     "name": "stdout",
     "output_type": "stream",
     "text": [
      "Accuracy score (validation): 0.603\n",
      "Confusion Matrix for Raandom Forests:\n",
      "[[ 1575     0     0     0]\n",
      " [    0  1009    44   456]\n",
      " [    0   849 14806  6395]\n",
      " [    0   449 10651 11176]]\n",
      "\n",
      "Classification Report for Random Forests\n",
      "              precision    recall  f1-score   support\n",
      "\n",
      "           0       1.00      1.00      1.00      1575\n",
      "           1       0.44      0.67      0.53      1509\n",
      "           2       0.58      0.67      0.62     22050\n",
      "           3       0.62      0.50      0.55     22276\n",
      "\n",
      "    accuracy                           0.60     47410\n",
      "   macro avg       0.66      0.71      0.68     47410\n",
      "weighted avg       0.61      0.60      0.60     47410\n",
      "\n"
     ]
    }
   ],
   "source": [
    "print(\"Accuracy score (validation): {0:.3f}\".format(MLPC.score(x_test, y_test)))\n",
    "print(\"Confusion Matrix for Raandom Forests:\")\n",
    "print(confusion_matrix(y_test, MLPC.predict(x_test)))\n",
    "print()\n",
    "print(\"Classification Report for Random Forests\")\n",
    "print(classification_report(y_test, MLPC.predict(x_test)))"
   ]
  },
  {
   "cell_type": "markdown",
   "metadata": {},
   "source": [
    "# HistGradientBoostingClassifier (會delay不要用)"
   ]
  },
  {
   "cell_type": "code",
   "execution_count": 268,
   "metadata": {},
   "outputs": [],
   "source": [
    "from sklearn.experimental import enable_hist_gradient_boosting  # noqa\n",
    "from sklearn.ensemble import HistGradientBoostingClassifier\n",
    "\n",
    "x_train, x_test, y_train, y_test = train_test_split(feature, answer, test_size=0.3, random_state = 7)\n",
    "HGBC = HistGradientBoostingClassifier(random_state=1, max_iter=300).fit(x_train, y_train)\n",
    "\n",
    "HGBC.predict_proba(x_test)\n",
    "HGBC.predict(x_test)\n",
    "HGBC.score(x_test, y_test)\n",
    "\n",
    "file = open(\"model_HGBC.pickle\", \"wb\")\n",
    "pickle.dump(HGBC, file)\n",
    "file.close()"
   ]
  },
  {
   "cell_type": "code",
   "execution_count": 269,
   "metadata": {},
   "outputs": [
    {
     "name": "stdout",
     "output_type": "stream",
     "text": [
      "Accuracy score (validation): 0.988\n",
      "Confusion Matrix for Raandom Forests:\n",
      "[[6812   20   11   14    6]\n",
      " [  17 7053    3   19    5]\n",
      " [  79   66 9764    2    5]\n",
      " [  71   70    5 9476    7]\n",
      " [   4    2    2    8   22]]\n",
      "\n",
      "Classification Report for Random Forests\n",
      "              precision    recall  f1-score   support\n",
      "\n",
      "           0       0.98      0.99      0.98      6863\n",
      "           1       0.98      0.99      0.99      7097\n",
      "           2       1.00      0.98      0.99      9916\n",
      "           3       1.00      0.98      0.99      9629\n",
      "           4       0.49      0.58      0.53        38\n",
      "\n",
      "    accuracy                           0.99     33543\n",
      "   macro avg       0.89      0.91      0.90     33543\n",
      "weighted avg       0.99      0.99      0.99     33543\n",
      "\n"
     ]
    }
   ],
   "source": [
    "print(\"Accuracy score (validation): {0:.3f}\".format(HGBC.score(x_test, y_test)))\n",
    "print(\"Confusion Matrix for Raandom Forests:\")\n",
    "print(confusion_matrix(y_test, HGBC.predict(x_test)))\n",
    "print()\n",
    "print(\"Classification Report for Random Forests\")\n",
    "print(classification_report(y_test, HGBC.predict(x_test)))"
   ]
  },
  {
   "cell_type": "markdown",
   "metadata": {},
   "source": [
    "# DecisionTree"
   ]
  },
  {
   "cell_type": "code",
   "execution_count": 270,
   "metadata": {},
   "outputs": [],
   "source": [
    "from sklearn.model_selection import cross_val_score\n",
    "from sklearn.tree import DecisionTreeClassifier\n",
    "from sklearn.model_selection import train_test_split\n",
    "\n",
    "x_train, x_test, y_train, y_test = train_test_split(feature, answer, test_size=0.3, random_state = 7)\n",
    "DT = DecisionTreeClassifier(random_state=0).fit(x_train, y_train)\n",
    "\n",
    "DT.predict_proba(x_test)\n",
    "DT.predict(x_test)\n",
    "DT.score(x_test, y_test)\n",
    "\n",
    "file = open(\"model_DT.pickle\", \"wb\")\n",
    "pickle.dump(DT, file)\n",
    "file.close()"
   ]
  },
  {
   "cell_type": "code",
   "execution_count": 271,
   "metadata": {},
   "outputs": [
    {
     "name": "stdout",
     "output_type": "stream",
     "text": [
      "Accuracy score (validation): 0.989\n",
      "Confusion Matrix for Raandom Forests:\n",
      "[[6789   46   15    6    7]\n",
      " [  52 7022    6   11    6]\n",
      " [  40   29 9826   14    7]\n",
      " [  43   33   16 9534    3]\n",
      " [   4    2    5    8   19]]\n",
      "\n",
      "Classification Report for Random Forests\n",
      "              precision    recall  f1-score   support\n",
      "\n",
      "           0       0.98      0.99      0.98      6863\n",
      "           1       0.98      0.99      0.99      7097\n",
      "           2       1.00      0.99      0.99      9916\n",
      "           3       1.00      0.99      0.99      9629\n",
      "           4       0.45      0.50      0.48        38\n",
      "\n",
      "    accuracy                           0.99     33543\n",
      "   macro avg       0.88      0.89      0.89     33543\n",
      "weighted avg       0.99      0.99      0.99     33543\n",
      "\n"
     ]
    }
   ],
   "source": [
    "print(\"Accuracy score (validation): {0:.3f}\".format(DT.score(x_test, y_test)))\n",
    "print(\"Confusion Matrix for Raandom Forests:\")\n",
    "print(confusion_matrix(y_test, DT.predict(x_test)))\n",
    "print()\n",
    "print(\"Classification Report for Random Forests\")\n",
    "print(classification_report(y_test, DT.predict(x_test)))"
   ]
  },
  {
   "cell_type": "markdown",
   "metadata": {},
   "source": [
    "# Extra tree"
   ]
  },
  {
   "cell_type": "code",
   "execution_count": 272,
   "metadata": {},
   "outputs": [],
   "source": [
    "from sklearn.model_selection import cross_val_score\n",
    "from sklearn.ensemble import BaggingClassifier\n",
    "from sklearn.model_selection import train_test_split\n",
    "from sklearn.tree import ExtraTreeClassifier\n",
    "\n",
    "x_train, x_test, y_train, y_test = train_test_split(feature, answer, test_size=0.3, random_state = 7)\n",
    "cls = ExtraTreeClassifier(random_state=0)\n",
    "ET = BaggingClassifier(cls, random_state=0).fit(x_train, y_train)\n",
    "\n",
    "ET.predict_proba(x_test)\n",
    "ET.predict(x_test)\n",
    "ET.score(x_test, y_test)\n",
    "\n",
    "file = open(\"model_ET.pickle\", \"wb\")\n",
    "pickle.dump(ET, file)\n",
    "file.close()"
   ]
  },
  {
   "cell_type": "code",
   "execution_count": 273,
   "metadata": {},
   "outputs": [
    {
     "name": "stdout",
     "output_type": "stream",
     "text": [
      "Accuracy score (validation): 0.980\n",
      "Confusion Matrix for Raandom Forests:\n",
      "[[6729   32   30   72    0]\n",
      " [  30 6962   51   54    0]\n",
      " [  76   80 9748   12    0]\n",
      " [  78   91   22 9438    0]\n",
      " [   4   11    6   12    5]]\n",
      "\n",
      "Classification Report for Random Forests\n",
      "              precision    recall  f1-score   support\n",
      "\n",
      "           0       0.97      0.98      0.98      6863\n",
      "           1       0.97      0.98      0.98      7097\n",
      "           2       0.99      0.98      0.99      9916\n",
      "           3       0.98      0.98      0.98      9629\n",
      "           4       1.00      0.13      0.23        38\n",
      "\n",
      "    accuracy                           0.98     33543\n",
      "   macro avg       0.98      0.81      0.83     33543\n",
      "weighted avg       0.98      0.98      0.98     33543\n",
      "\n"
     ]
    }
   ],
   "source": [
    "print(\"Accuracy score (validation): {0:.3f}\".format(ET.score(x_test, y_test)))\n",
    "print(\"Confusion Matrix for Raandom Forests:\")\n",
    "print(confusion_matrix(y_test, ET.predict(x_test)))\n",
    "print()\n",
    "print(\"Classification Report for Random Forests\")\n",
    "print(classification_report(y_test, ET.predict(x_test)))"
   ]
  },
  {
   "cell_type": "markdown",
   "metadata": {},
   "source": [
    "# SVM.svc(train很久不要用)"
   ]
  },
  {
   "cell_type": "code",
   "execution_count": 274,
   "metadata": {},
   "outputs": [],
   "source": [
    "import numpy as np\n",
    "from sklearn.pipeline import make_pipeline\n",
    "from sklearn.preprocessing import StandardScaler\n",
    "from sklearn.svm import SVC\n",
    "\n",
    "SVC = make_pipeline(StandardScaler(), SVC(gamma='auto',probability=True))\n",
    "SVC.fit(x_train, y_train)\n",
    "\n",
    "SVC.predict_proba(x_test)\n",
    "SVC.predict(x_test)\n",
    "SVC.score(x_test, y_test)\n",
    "\n",
    "file = open(\"model_SVC.pickle\", \"wb\")\n",
    "pickle.dump(SVC, file)\n",
    "file.close()"
   ]
  },
  {
   "cell_type": "code",
   "execution_count": 275,
   "metadata": {},
   "outputs": [
    {
     "name": "stdout",
     "output_type": "stream",
     "text": [
      "Accuracy score (validation): 0.981\n",
      "Confusion Matrix for Raandom Forests:\n",
      "[[6650   10   56  147    0]\n",
      " [   5 6980   48   64    0]\n",
      " [  64   59 9792    1    0]\n",
      " [  77   62    1 9489    0]\n",
      " [   4   12    6   12    4]]\n",
      "\n",
      "Classification Report for Random Forests\n",
      "              precision    recall  f1-score   support\n",
      "\n",
      "           0       0.98      0.97      0.97      6863\n",
      "           1       0.98      0.98      0.98      7097\n",
      "           2       0.99      0.99      0.99      9916\n",
      "           3       0.98      0.99      0.98      9629\n",
      "           4       1.00      0.11      0.19        38\n",
      "\n",
      "    accuracy                           0.98     33543\n",
      "   macro avg       0.98      0.81      0.82     33543\n",
      "weighted avg       0.98      0.98      0.98     33543\n",
      "\n"
     ]
    }
   ],
   "source": [
    "print(\"Accuracy score (validation): {0:.3f}\".format(SVC.score(x_test, y_test)))\n",
    "print(\"Confusion Matrix for Raandom Forests:\")\n",
    "print(confusion_matrix(y_test, SVC.predict(x_test)))\n",
    "print()\n",
    "print(\"Classification Report for Random Forests\")\n",
    "print(classification_report(y_test, SVC.predict(x_test)))"
   ]
  }
 ],
 "metadata": {
  "kernelspec": {
   "display_name": "Python 3",
   "language": "python",
   "name": "python3"
  },
  "language_info": {
   "codemirror_mode": {
    "name": "ipython",
    "version": 3
   },
   "file_extension": ".py",
   "mimetype": "text/x-python",
   "name": "python",
   "nbconvert_exporter": "python",
   "pygments_lexer": "ipython3",
   "version": "3.7.6"
  }
 },
 "nbformat": 4,
 "nbformat_minor": 4
}
