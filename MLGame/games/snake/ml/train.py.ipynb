{
 "cells": [
  {
   "cell_type": "code",
   "execution_count": 78,
   "metadata": {},
   "outputs": [
    {
     "data": {
      "text/plain": [
       "dict"
      ]
     },
     "execution_count": 78,
     "metadata": {},
     "output_type": "execute_result"
    }
   ],
   "source": [
    "import pickle\n",
    "import numpy as np\n",
    "from sklearn.neighbors import KNeighborsClassifier\n",
    "from sklearn.model_selection import train_test_split, cross_val_score\n",
    "from sklearn.metrics import  classification_report, confusion_matrix\n",
    "from sklearn.model_selection import GridSearchCV\n",
    "from sklearn.model_selection import StratifiedShuffleSplit\n",
    "\n",
    "from sklearn import metrics\n",
    "from sklearn.ensemble import RandomForestClassifier\n",
    "\n",
    "#試取資料\n",
    "file = open(\"/Users/peggy/Documents/109-2(2-2)/machine_learning/MLGame/games/snake/log/snake1.pickle\", \"rb\")\n",
    "data = pickle.load(file)\n",
    "file.close()\n",
    "type(data['ml'])"
   ]
  },
  {
   "cell_type": "code",
   "execution_count": 79,
   "metadata": {},
   "outputs": [],
   "source": [
    "game_info = data[\"ml\"][\"scene_info\"]\n",
    "game_command = data[\"ml\"][\"command\"]\n",
    "#print(game_info)\n",
    "#print(game_command)"
   ]
  },
  {
   "cell_type": "code",
   "execution_count": 80,
   "metadata": {},
   "outputs": [
    {
     "name": "stdout",
     "output_type": "stream",
     "text": [
      "158034\n",
      "158034\n"
     ]
    }
   ],
   "source": [
    "\n",
    "for i in range(2,3): \n",
    "    path = \"/Users/peggy/Documents/109-2(2-2)/machine_learning/MLGame/games/snake/log/snake\" + str(i) + \".pickle\"\n",
    "    file = open(path, \"rb\")\n",
    "    data = pickle.load(file)\n",
    "    game_info = game_info + data['ml']['scene_info']\n",
    "    game_command = game_command + data['ml']['command']\n",
    "    file.close()  \n",
    "\n",
    "print(len(game_info))\n",
    "print(len(game_command))\n"
   ]
  },
  {
   "cell_type": "code",
   "execution_count": 81,
   "metadata": {},
   "outputs": [
    {
     "name": "stdout",
     "output_type": "stream",
     "text": [
      "[40 50]\n",
      "LEFT\n"
     ]
    }
   ],
   "source": [
    "g = game_info[1]\n",
    "\n",
    "feature = np.array([g[\"snake_head\"][0], g[\"snake_head\"][1]])\n",
    "print(feature)\n",
    "print(game_command[1])\n",
    "if game_command[1] == \"UP\": game_command[1] = 0\n",
    "elif game_command[1] == \"DOWN\": game_command[1] = 1\n",
    "elif game_command[1] == \"LEFT\": game_command[1] = 2\n",
    "elif game_command[1] == \"RIGHT\": game_command[1] = 3\n",
    "else: game_command[1] = 4 "
   ]
  },
  {
   "cell_type": "code",
   "execution_count": 82,
   "metadata": {
    "scrolled": true
   },
   "outputs": [
    {
     "name": "stdout",
     "output_type": "stream",
     "text": [
      "[[ 40  50]\n",
      " [ 30  50]\n",
      " [ 20  50]\n",
      " ...\n",
      " [270   0]\n",
      " [280   0]\n",
      " [290   0]]\n",
      "(158032, 2)\n",
      "[2 2 2 ... 3 3 3]\n",
      "(158032,)\n"
     ]
    }
   ],
   "source": [
    "for i in range(2, len(game_info) - 1):\n",
    "    g = game_info[i]\n",
    "    \n",
    "    feature = np.vstack((feature, [g[\"snake_head\"][0], g[\"snake_head\"][1]]))\n",
    "    if game_command[i] == \"UP\": game_command[i] = 0\n",
    "    elif game_command[i] == \"DOWN\": game_command[i] = 1\n",
    "    elif game_command[i] == \"LEFT\": game_command[i] = 2\n",
    "    elif game_command[i] == \"RIGHT\": game_command[i] = 3\n",
    "    else: game_command[i] = 4 \n",
    "        \n",
    "answer = np.array(game_command[1:-1])\n",
    "print(feature)\n",
    "print(feature.shape)\n",
    "print(answer)\n",
    "print(answer.shape)"
   ]
  },
  {
   "cell_type": "markdown",
   "metadata": {},
   "source": [
    "# KNN\n"
   ]
  },
  {
   "cell_type": "code",
   "execution_count": 83,
   "metadata": {},
   "outputs": [
    {
     "name": "stdout",
     "output_type": "stream",
     "text": [
      "Fitting 2 folds for each of 5 candidates, totalling 10 fits\n"
     ]
    },
    {
     "name": "stderr",
     "output_type": "stream",
     "text": [
      "[Parallel(n_jobs=-1)]: Using backend LokyBackend with 8 concurrent workers.\n",
      "[Parallel(n_jobs=-1)]: Done   3 out of  10 | elapsed:    3.7s remaining:    8.6s\n",
      "[Parallel(n_jobs=-1)]: Done   5 out of  10 | elapsed:    3.7s remaining:    3.7s\n",
      "[Parallel(n_jobs=-1)]: Done   7 out of  10 | elapsed:    3.7s remaining:    1.6s\n",
      "[Parallel(n_jobs=-1)]: Done  10 out of  10 | elapsed:    4.6s finished\n"
     ]
    }
   ],
   "source": [
    "import pickle\n",
    "import numpy as np\n",
    "from sklearn.neighbors import KNeighborsClassifier\n",
    "from sklearn.model_selection import train_test_split, cross_val_score\n",
    "from sklearn.metrics import  classification_report, confusion_matrix\n",
    "from sklearn.model_selection import GridSearchCV\n",
    "from sklearn.model_selection import StratifiedShuffleSplit\n",
    "\n",
    "#資料劃分\n",
    "x_train, x_test, y_train, y_test = train_test_split(feature, answer, test_size=0.3, random_state=9)\n",
    "#參數區間\n",
    "param_grid = {'n_neighbors':[1, 2, 3, 4, 5]}\n",
    "#交叉驗證 \n",
    "cv = StratifiedShuffleSplit(n_splits=2, test_size=0.3, random_state=12)\n",
    "grid = GridSearchCV(KNeighborsClassifier(n_neighbors = 5), param_grid, cv=cv, verbose=10, n_jobs=-1) #n_jobs為平行運算的數量\n",
    "grid.fit(x_train, y_train)\n",
    "grid_predictions = grid.predict(x_test)\n",
    "\n",
    "#儲存\n",
    "file = open('model_KNN.pickle', 'wb')\n",
    "pickle.dump(grid, file)\n",
    "file.close()\n"
   ]
  },
  {
   "cell_type": "code",
   "execution_count": 278,
   "metadata": {},
   "outputs": [
    {
     "name": "stdout",
     "output_type": "stream",
     "text": [
      "{'n_neighbors': 5}\n",
      "[[6164   75  373  345    0]\n",
      " [  71 6402  356  352    0]\n",
      " [ 351  360 8975  105    0]\n",
      " [ 368  397  123 8683    0]\n",
      " [   5    5    7   25    1]]\n",
      "              precision    recall  f1-score   support\n",
      "\n",
      "           0       0.89      0.89      0.89      6957\n",
      "           1       0.88      0.89      0.89      7181\n",
      "           2       0.91      0.92      0.91      9791\n",
      "           3       0.91      0.91      0.91      9571\n",
      "           4       1.00      0.02      0.05        43\n",
      "\n",
      "    accuracy                           0.90     33543\n",
      "   macro avg       0.92      0.72      0.73     33543\n",
      "weighted avg       0.90      0.90      0.90     33543\n",
      "\n"
     ]
    }
   ],
   "source": [
    "#最佳參數\n",
    "print(grid.best_params_)\n",
    "#預測結果\n",
    "#print(grid_predictions)\n",
    "#混淆矩陣\n",
    "print(confusion_matrix(y_test, grid_predictions))\n",
    "#分類結果\n",
    "print(classification_report(y_test, grid_predictions))"
   ]
  }
 ],
 "metadata": {
  "kernelspec": {
   "display_name": "Python 3",
   "language": "python",
   "name": "python3"
  },
  "language_info": {
   "codemirror_mode": {
    "name": "ipython",
    "version": 3
   },
   "file_extension": ".py",
   "mimetype": "text/x-python",
   "name": "python",
   "nbconvert_exporter": "python",
   "pygments_lexer": "ipython3",
   "version": "3.7.6"
  }
 },
 "nbformat": 4,
 "nbformat_minor": 4
}
